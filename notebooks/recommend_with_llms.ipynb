{
  "cells": [
    {
      "cell_type": "markdown",
      "metadata": {
        "id": "UxJBk3SlvcnR"
      },
      "source": [
        "# Recommend with LLMs\n",
        "\n",
        "LLMs are based on the powerful transformer architecture which\n",
        "enable parallel learning of contextual features that can be\n",
        "fine-tuned for a number of downstream tasks.\n",
        "\n",
        "This notebook presents a quick tour of how LLMs can be leveraged for recommendation & related tasks"
      ]
    },
    {
      "cell_type": "markdown",
      "metadata": {
        "id": "SF4oE6Ywvcdm"
      },
      "source": [
        "## The Recommendation System Setup\n",
        "\n",
        "<img src=\"../assets/recsys_flow.png\">"
      ]
    },
    {
      "cell_type": "markdown",
      "metadata": {
        "id": "F2Cv0tAevcVR"
      },
      "source": [
        "## Query Understanding\n",
        "\n",
        "We are used to interact with apps/website in a very structured and limited way:\n",
        "- Keyword Search\n",
        "- Clicks\n",
        "- Scrolling\n",
        "- Feedback/Ratings\n",
        "\n",
        "LLMs (and similar models) provide an extremely powerful and natural way of interacting through Natural Language\n",
        "\n",
        "### Keyword Search\n",
        "```python\n",
        "> Chole Bhature\n",
        "```\n",
        "\n",
        "### Free form Interaction\n",
        "```python\n",
        "> I want to eat spicy chole bhature from not so expensive place within next 30mins\n",
        "```"
      ]
    },
    {
      "cell_type": "code",
      "execution_count": null,
      "metadata": {
        "id": "hfe3shg1c9Mg"
      },
      "outputs": [],
      "source": [
        "from IPython.display import display, Markdown, Latex\n",
        "import json"
      ]
    },
    {
      "cell_type": "code",
      "execution_count": null,
      "metadata": {
        "id": "LPvGbEolCAgd"
      },
      "outputs": [],
      "source": [
        "import os\n",
        "import openai"
      ]
    },
    {
      "cell_type": "code",
      "execution_count": null,
      "metadata": {
        "id": "FLlDu1y5CHpo"
      },
      "outputs": [],
      "source": [
        "API_KEY = \"\"\n",
        "os.environ['OPENAI_API_KEY'] = API_KEY\n",
        "openai.organization = \"\"\n",
        "openai.ai_key = os.environ['OPENAI_API_KEY']"
      ]
    },
    {
      "cell_type": "code",
      "execution_count": null,
      "metadata": {
        "id": "ep0Rvdc2ESXK"
      },
      "outputs": [],
      "source": [
        "def get_completion_message(messages,\n",
        "    model=\"gpt-3.5-turbo\",\n",
        "    temperature = 0,\n",
        "    max_tokens = 500):\n",
        "    response = openai.ChatCompletion.create(\n",
        "      model=model,\n",
        "      messages=messages,\n",
        "      temperature=temperature,\n",
        "      max_tokens=max_tokens\n",
        "  )\n",
        "    return response.choices[0].message[\"content\"]\n"
      ]
    },
    {
      "cell_type": "code",
      "execution_count": null,
      "metadata": {
        "id": "_lK_DyWpvbuA"
      },
      "outputs": [],
      "source": [
        "# add code snippet to understand what the user wants\n",
        "system_message_1 = \"\"\"\n",
        "You are a customer service agent for an Online Food Delivery company\n",
        "taking requests for ordering food from restaurants.\n",
        "Always respond in a friendly tone with very concise answers.\n",
        "Focus on available information and apologise when not sure.\n",
        "\"\"\"\n",
        "\n",
        "system_message_2 = \"\"\"\n",
        "Your task is to understand if the user is ordering from a specific restaurant\n",
        "along with dishes/items/beverages and if there are any cuisine, price/budget or\n",
        "delivery time preferences. Present this information in JSON format with\n",
        "restaurant_name, item_list, cuisine_preference, budget_preference, delivery_time_preference\n",
        "as keys. Use \"NOT_AVAILABLE\" if no value is identified for a key.\n",
        "\"\"\""
      ]
    },
    {
      "cell_type": "code",
      "execution_count": null,
      "metadata": {
        "id": "ODg2W6BHFYYM"
      },
      "outputs": [],
      "source": [
        "user_message_1 = \"\"\"\n",
        "Can you help me with chole bhature from Anand like restaurants along with some gulab jamuns and lassi.\n",
        "I do not want to order from a very expensive restaurant and the food should reach in like 20mins\n",
        "\"\"\""
      ]
    },
    {
      "cell_type": "code",
      "execution_count": null,
      "metadata": {
        "id": "GFelcVOzFC6h"
      },
      "outputs": [],
      "source": [
        "# prepare prompt/setup\n",
        "messages = [\n",
        "    {\n",
        "        'role':'system',\n",
        "        'content':system_message_1,\n",
        "    },\n",
        "    {\n",
        "        'role':'user',\n",
        "        'content':user_message_1,\n",
        "    },\n",
        "    {\n",
        "        'role':'system',\n",
        "        'content':system_message_2,\n",
        "    },\n",
        "]\n",
        "\n",
        "# get response\n",
        "agent_response = get_completion_message(messages)\n",
        "print(agent_response)"
      ]
    },
    {
      "cell_type": "markdown",
      "metadata": {
        "id": "7617VHf_F-Vr"
      },
      "source": [
        "```python\n",
        "# Sample response\n",
        "{\n",
        "  \"restaurant_name\": \"Anand\",\n",
        "  \"item_list\": [\"chole bhature\", \"gulab jamuns\", \"lassi\"],\n",
        "  \"cuisine_preference\": \"NOT_AVAILABLE\",\n",
        "  \"budget_preference\": \"affordable\",\n",
        "  \"delivery_time_preference\": \"20 minutes\"\n",
        "}\n",
        "```"
      ]
    },
    {
      "cell_type": "markdown",
      "metadata": {
        "id": "GO8pV3OrzwU0"
      },
      "source": [
        "## Candidate Generation\n",
        "\n",
        "We traditionally make use of algorithms such as Approximate Nearest Neighbor Search,  etc. to identify ``top-N`` candidates for a given user query.\n",
        "\n",
        "LLMs with their inherent capability to learn contextual representation, enable us to use this capability for getting highly contextual dense representation of our key entities for a better nearest neighbor search.\n",
        "\n",
        "<img src=\"../assets/vectors-3.svg\">\n",
        "\n",
        "> Source: https://openai.com/blog/introducing-text-and-code-embeddings"
      ]
    },
    {
      "cell_type": "code",
      "execution_count": null,
      "metadata": {
        "id": "X2RYiqQfHekx"
      },
      "outputs": [],
      "source": [
        "# this is a very simple setup\n",
        "# more sophistication is required to handle missing values and other edge-cases\n",
        "def preformat_user_request_text(request_json):\n",
        "    return f\"\"\"\n",
        "    I would like to order {','.join([item for item in request_json['item_list']])}\n",
        "    from restaurants similar to {request_json['restaurant_name']}. I prefer having\n",
        "    food from {request_json['cuisine_preference']} cuisine,\n",
        "    my budget preference is {request_json['budget_preference']} and delivery preference\n",
        "    is {request_json['delivery_time_preference']}\n",
        "    \"\"\""
      ]
    },
    {
      "cell_type": "code",
      "execution_count": null,
      "metadata": {
        "id": "Y5pobqYP0zQ0"
      },
      "outputs": [],
      "source": [
        "# Code snippet to get embeddings\n",
        "def get_embedding(text, model=\"text-embedding-ada-002\"):\n",
        "    text = text.replace(\"\\n\", \" \")\n",
        "    return openai.Embedding.create(input = [text], model=model)['data'][0]['embedding']"
      ]
    },
    {
      "cell_type": "code",
      "execution_count": null,
      "metadata": {
        "id": "lVPYRvdnJCLA"
      },
      "outputs": [],
      "source": [
        "request_message = preformat_user_request_text(agent_response)\n",
        "request_embd = get_embedding(request_message)"
      ]
    },
    {
      "cell_type": "code",
      "execution_count": null,
      "metadata": {
        "id": "AcpKQ4_7WNPB"
      },
      "outputs": [],
      "source": [
        "print(len(request_embd))\n",
        "# 1536"
      ]
    },
    {
      "cell_type": "markdown",
      "metadata": {
        "id": "PpNmkxJkJOC3"
      },
      "source": [
        "```python\n",
        "# sample output\n",
        "[0.0032782373018562794,\n",
        " -0.014471372589468956,\n",
        " -0.01778426393866539,\n",
        " 0.02499222755432129,\n",
        " -0.01202482357621193,\n",
        " -0.005159931723028421,\n",
        " -0.0220120120793581,\n",
        " -0.017714956775307655,\n",
        " -0.012482251971960068,\n",
        " -0.016897128894925117,\n",
        " .....,\n",
        " -0.024021925404667854,\n",
        " 0.04363590106368065,\n",
        " -0.030467506498098373,\n",
        " -0.00507676275447011,\n",
        " -0.0007836061413399875]\n",
        "```"
      ]
    },
    {
      "cell_type": "markdown",
      "metadata": {
        "id": "-VnR7ysY03qN"
      },
      "source": [
        "## Scoring and Ranking\n",
        "\n",
        "Typically business logic and different scoring/ranking methods are applied on top of candidate list to generate the final output.\n",
        "\n",
        "LLMs can be easily leveraged through prompts and other methods to perform this step as well"
      ]
    },
    {
      "cell_type": "code",
      "execution_count": null,
      "metadata": {
        "id": "Qg9M_YSrdGBe"
      },
      "outputs": [],
      "source": [
        "dummy_vendor_list = [\n",
        "    {\n",
        "        'restaurant_name': 'Spice Palace',\n",
        "        'cuisine_preference': 'indian',\n",
        "        'budget_preference': 'affordable',\n",
        "        'item_list': ['Butter Chicken', 'Tandoori Chicken', 'Palak Paneer', 'Naan', 'Biryani', 'Samosa', 'Chana Masala', 'Aloo Gobi', 'Mango Lassi', 'Gulab Jamun']\n",
        "    },\n",
        "    {\n",
        "        'restaurant_name': 'Curry House',\n",
        "        'cuisine_preference': 'indian',\n",
        "        'budget_preference': 'budget',\n",
        "        'item_list': ['Chole Bhature', 'Vegetable Korma', 'Gulab Jamun', 'Garlic Naan', 'Lassi', 'Onion Bhaji', 'Dal Makhani', 'Aloo Tikki', 'Mango Chutney', 'Raita']\n",
        "    },\n",
        "    {\n",
        "        'restaurant_name': 'Taj Mahal',\n",
        "        'cuisine_preference': 'indian',\n",
        "        'budget_preference': 'expensive',\n",
        "        'item_list': ['Lamb Rogan Josh', 'Chicken Biryani', 'Paneer Tikka', 'Garlic Naan', 'Prawn Curry', 'Onion Pakora', 'Chana Masala', 'Aloo Paratha', 'Mango Lassi']\n",
        "    },\n",
        "    {\n",
        "        'restaurant_name': 'Saffron',\n",
        "        'cuisine_preference': 'indian',\n",
        "        'budget_preference': 'expensive',\n",
        "        'item_list': ['Chicken Vindaloo', 'Saag Aloo', 'Paneer Makhani', 'Garlic Naan', 'Jeera Rice', 'Vegetable Samosa', 'Chana Masala', 'Aloo Gobi', 'Mango Lassi', 'Rasmalai']\n",
        "    },\n",
        "    {\n",
        "        'restaurant_name': 'Masala Zone',\n",
        "        'cuisine_preference': 'indian',\n",
        "        'budget_preference': 'budget',\n",
        "        'item_list': ['Chicken Tikka', 'Lamb Biryani', 'Paneer Butter Masala', 'Garlic Naan', 'Prawn Masala', 'Onion Bhaji', 'Chana Masala', 'Aloo Tikki', 'Mango Lassi', 'Barfi']\n",
        "    },\n",
        "    {\n",
        "        'restaurant_name': 'Wok This Way',\n",
        "        'cuisine_preference': 'chinese',\n",
        "        'budget_preference': 'affordable',\n",
        "        'item_list': ['Kung Pao Chicken', 'Moo Shu Pork', 'Beef and Broccoli', 'Hot and Sour Soup', 'Egg Rolls', 'Fried Rice', 'Lo Mein', 'General Tso\\'s Chicken', 'Sesame Chicken', 'Crab Rangoon']\n",
        "    },\n",
        "    {\n",
        "        'restaurant_name': 'Golden Dragon',\n",
        "        'cuisine_preference': 'chinese',\n",
        "        'budget_preference': 'budget',\n",
        "        'item_list': ['Egg Drop Soup', 'Hot and Sour Soup', 'Wonton Soup', 'Fried Rice', 'Lo Mein', 'General Tso\\'s Chicken', 'Sesame Chicken', 'Beef and Broccoli', 'Sweet and Sour Pork', 'Shrimp with Lobster Sauce']\n",
        "    },\n",
        "    {\n",
        "        'restaurant_name': 'Panda Express',\n",
        "        'cuisine_preference': 'chinese',\n",
        "        'budget_preference': 'budget',\n",
        "        'item_list': ['Orange Chicken', 'Kung Pao Chicken', 'Beijing Beef', 'Chow Mein', 'Fried Rice', 'Egg Rolls', 'Crab Rangoon', 'Teriyaki Chicken', 'Honey Walnut Shrimp', 'Broccoli Beef']\n",
        "    }\n",
        "]"
      ]
    },
    {
      "cell_type": "code",
      "execution_count": null,
      "metadata": {
        "id": "InlM-bJFdH3H"
      },
      "outputs": [],
      "source": [
        "def get_vendor_details(vendor_list):\n",
        "    vendor_str = \"\"\n",
        "    for v in vendor_list:\n",
        "        vendor_str += f\"\"\"{v['restaurant_name']}\\\n",
        "        (item_list:[{', '.join([i for i in v['item_list']])}],\\\n",
        "        budget_preference:{v['budget_preference']},\\\n",
        "        cuisine_preference:{v['cuisine_preference']})\"\"\"\n",
        "    return vendor_str"
      ]
    },
    {
      "cell_type": "code",
      "execution_count": null,
      "metadata": {
        "id": "wnID7PHVdP7n"
      },
      "outputs": [],
      "source": [
        "user_pref = get_vendor_details([json.loads(agent_response)])\n",
        "system_message_3 = f\"\"\"\n",
        "Recommended top two restaurants based on user preferences as mentioned in triple quotes ```{user_pref}```.\\\n",
        "Format the output as a list and share reason for each recommendation. Highlight restaurant name in bold.\n",
        "Make sure the recommended restaurants are present in the following list of restaurants\\n\n",
        "Available restaurants:\n",
        "{get_vendor_details(dummy_vendor_list)}\\n\n",
        "\"\"\""
      ]
    },
    {
      "cell_type": "code",
      "execution_count": null,
      "metadata": {
        "id": "ZdG9y5KLdSXG"
      },
      "outputs": [],
      "source": [
        "# extend message list\n",
        "messages.append({\n",
        "    'role':'system',\n",
        "    'content': ''\n",
        "})\n",
        "\n",
        "messages.append({\n",
        "    'role':'assistant',\n",
        "    'content': system_message_3\n",
        "})"
      ]
    },
    {
      "cell_type": "code",
      "execution_count": null,
      "metadata": {
        "id": "Rf-R8C8OdUZR"
      },
      "outputs": [],
      "source": [
        "agent_response = get_completion_message(messages)\n",
        "display(Markdown(agent_response))"
      ]
    },
    {
      "cell_type": "markdown",
      "metadata": {
        "id": "jMNEvV_QhDZf"
      },
      "source": [
        "> Sample Response\n",
        "\n",
        "Based on your preferences, I recommend the following restaurants:\n",
        "\n",
        "1. **Spice Palace**: They offer a variety of Indian dishes including Butter Chicken, Tandoori Chicken, Palak Paneer, Naan, Biryani, Samosa, Chana Masala, Aloo Gobi, Mango Lassi, and Gulab Jamun. They have affordable prices and their cuisine is Indian.\n",
        "\n",
        "2. **Curry House**: They have Chole Bhature, Vegetable Korma, Gulab Jamun, Garlic Naan, Lassi, Onion Bhaji, Dal Makhani, Aloo Tikki, Mango Chutney, and Raita. They are a budget-friendly Indian restaurant.\n",
        "\n",
        "Both of these restaurants should be able to deliver your food within 20 minutes."
      ]
    },
    {
      "cell_type": "markdown",
      "metadata": {
        "id": "ae2asafe2NY-"
      },
      "source": [
        "## LangChain & Friends\n",
        "\n",
        "- Frameworks such as ``LangChain`` enable us to integrate LLMs with our existing recommendation systems/architecture while super charging them with amazing capabilities\n",
        "- `Streamlit` is an amazing way of preparing GUI based prototypes\n",
        "- **Vector Databases** such as ``milvus``, ``pinecone`` and likes help with handling embeddings\n",
        "\n",
        "<img src=\"../assets/streamlit.gif\">"
      ]
    },
    {
      "cell_type": "markdown",
      "metadata": {
        "id": "CP1_DY7g1UoT"
      },
      "source": [
        "## End-to-End Architectures\n",
        "\n",
        "While we can employ LLMs for each of the steps we discussed,\n",
        "recent research enables us to leverage such architectures for an\n",
        "end-to-end setup which provides capabilities to handle multiple\n",
        "recommendation tasks with a single model.\n",
        "\n",
        "Models such as **P5** or _Pretrain, Personalized Prompt, and Predict Paradigm_ for recommendation leverage the\n",
        "LLM architecture by formulating recommendation tasks using natural language. P5 learns different tasks with the same language modeling objective during pretraining. Thus, it serves as the foundation model for downstream recommendation tasks, allows easy integration with other modalities, and enables instruction-based recommendation based on prompts.\n",
        "\n",
        "<img src=\"../assets/p5.png\">\n",
        "\n",
        "> Source: [P5, Geng et. al.](https://arxiv.org/pdf/2203.13366.pdf)"
      ]
    },
    {
      "cell_type": "markdown",
      "metadata": {
        "id": "dSU29P6p1qH6"
      },
      "source": [
        "## Challenges\n",
        "\n",
        "LLMs are like eager execution systems without much thinking capabilities (or do they?). This poses a number of challenges, some of which we highlight below:\n",
        "- Hallucination\n",
        "- High Training and Inference Cost\n",
        "- Large Training Datasets\n",
        "- Adversarial Prompt Attacks"
      ]
    },
    {
      "cell_type": "markdown",
      "metadata": {},
      "source": []
    }
  ],
  "metadata": {
    "colab": {
      "provenance": []
    },
    "kernelspec": {
      "display_name": "Python 3",
      "name": "python3"
    },
    "language_info": {
      "name": "python"
    }
  },
  "nbformat": 4,
  "nbformat_minor": 0
}
